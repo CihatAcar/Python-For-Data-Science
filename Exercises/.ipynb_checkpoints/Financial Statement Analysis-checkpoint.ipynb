{
 "cells": [
  {
   "cell_type": "code",
   "execution_count": 3,
   "metadata": {},
   "outputs": [],
   "source": [
    "#Data \n",
    "revenue = [14574.49, 7606.46, 8611.41, 9175.41, 8058.65, 8105.44, 11496.28, 9766.09, 10305.32, 14379.96, 10713.97, 15433.50]\n",
    "expenses = [12051.82, 5695.07, 12319.20, 12089.72, 8658.57, 840.20, 3285.73, 5821.12, 6976.93, 16618.61, 10054.37, 3803.96]"
   ]
  },
  {
   "cell_type": "code",
   "execution_count": 34,
   "metadata": {},
   "outputs": [
    {
     "name": "stdout",
     "output_type": "stream",
     "text": [
      "[2522.67, 1911.3900000000003, -3707.790000000001, -2914.3099999999995, -599.9200000000001, 7265.24, 8210.550000000001, 3944.9700000000003, 3328.3899999999994, -2238.6500000000015, 659.5999999999985, 11629.54]\n"
     ]
    }
   ],
   "source": [
    "#Profit For Each Month\n",
    "profit = []\n",
    "\n",
    "for i in range(0, len(revenue)):\n",
    "    profit.append(revenue[i] - expenses[i])\n",
    "\n",
    "print(profit)"
   ]
  },
  {
   "cell_type": "code",
   "execution_count": 42,
   "metadata": {},
   "outputs": [
    {
     "name": "stdout",
     "output_type": "stream",
     "text": [
      "Tax are:  [756.8, 573.42, -1112.34, -874.29, -179.98, 2179.57, 2463.17, 1183.49, 998.52, -671.6, 197.88, 3488.86]\n",
      "Taxed profits are : [1765.8700000000001, 1337.9700000000003, -2595.4500000000007, -2040.0199999999995, -419.94000000000005, 5085.67, 5747.380000000001, 2761.4800000000005, 2329.8699999999994, -1567.0500000000015, 461.71999999999855, 8140.68]\n"
     ]
    }
   ],
   "source": [
    "#Taxed Profits\n",
    "tax = [round(i * 0.3, 2) for i in profit]\n",
    "print(\"Tax are: \", tax)\n",
    "profit_taxed = []\n",
    "\n",
    "for i in range(0, len(profit)):\n",
    "    profit_taxed.append(profit[i] - tax[i])\n",
    "\n",
    "print(\"Taxed profits are :\", profit_taxed)"
   ]
  },
  {
   "cell_type": "code",
   "execution_count": 43,
   "metadata": {},
   "outputs": [
    {
     "name": "stdout",
     "output_type": "stream",
     "text": [
      "[12.12, 17.59, -30.14, -22.23, -5.21, 62.74, 49.99, 28.28, 22.61, -10.9, 4.31, 52.75]\n"
     ]
    }
   ],
   "source": [
    "# Profit Margins\n",
    "profit_margins = []\n",
    "\n",
    "for i in range(0, len(profit_taxed)):\n",
    "    profit_margins.append(profit_taxed[i] / revenue[i])\n",
    "\n",
    "profit_margins = [round((i * 100), 2) for i in profit_margins]\n",
    "print(profit_margins)"
   ]
  },
  {
   "cell_type": "code",
   "execution_count": 44,
   "metadata": {},
   "outputs": [
    {
     "data": {
      "text/plain": [
       "1750.6816666666666"
      ]
     },
     "execution_count": 44,
     "metadata": {},
     "output_type": "execute_result"
    }
   ],
   "source": [
    "# Good - Bad Months - profit after tax was greater - less than the mean for the year\n",
    "import statistics\n",
    "taxed_mean = statistics.mean(profit_taxed)\n",
    "taxed_mean"
   ]
  },
  {
   "cell_type": "code",
   "execution_count": 45,
   "metadata": {},
   "outputs": [
    {
     "name": "stdout",
     "output_type": "stream",
     "text": [
      "Good months are: [True, False, False, False, False, True, True, True, True, False, False, True] Bad months are: [False, True, True, True, True, False, False, False, False, True, True, False]\n"
     ]
    }
   ],
   "source": [
    "good_months = []\n",
    "bad_months = []\n",
    "\n",
    "for i in range(0, len(profit_taxed)):\n",
    "    good_months.append(profit_taxed[i] > taxed_mean)\n",
    "    bad_months.append(profit_taxed[i] < taxed_mean)\n",
    "print(\"Good months are:\", good_months, \"Bad months are:\", (bad_months))"
   ]
  },
  {
   "cell_type": "code",
   "execution_count": 48,
   "metadata": {},
   "outputs": [
    {
     "name": "stdout",
     "output_type": "stream",
     "text": [
      "The best month is:  [False, False, False, False, False, False, False, False, False, False, False, True]\n",
      "The worst month is:  [False, False, True, False, False, False, False, False, False, False, False, False]\n"
     ]
    }
   ],
   "source": [
    "# The Best and Worst Month\n",
    "\n",
    "best_month = []\n",
    "\n",
    "for i in range(0, len(profit_taxed)):\n",
    "    best_month.append(profit_taxed[i] == max(profit_taxed))\n",
    "print(\"The best month is: \", best_month)\n",
    "\n",
    "\n",
    "worst_month = []\n",
    "\n",
    "for i in range(0, len(profit_taxed)):\n",
    "    worst_month.append(profit_taxed[i] == min(profit_taxed))\n",
    "print(\"The worst month is: \", worst_month)"
   ]
  },
  {
   "cell_type": "code",
   "execution_count": 51,
   "metadata": {},
   "outputs": [],
   "source": [
    "#Convert all Calculations To Units Of One Thousand Dollar\n",
    "\n",
    "revenue_1000 = [round((i / 1000), 2) for i in revenue]\n",
    "expenses_1000 = [round((i / 1000), 2) for i in expenses]\n",
    "profit_1000 = [round((i / 1000), 2) for i in profit]\n",
    "profit_taxed_1000 = [round((i / 1000), 2) for i in profit_taxed]\n",
    "\n",
    "revenue_1000 = [int(i) for i in revenue_1000]\n",
    "expenses_1000 = [int(i) for i in expenses_1000]\n",
    "profit_1000 = [int(i) for i in profit_1000]\n",
    "profit_taxed_1000 = [int(i) for i in profit_taxed_1000]"
   ]
  },
  {
   "cell_type": "code",
   "execution_count": 60,
   "metadata": {},
   "outputs": [
    {
     "name": "stdout",
     "output_type": "stream",
     "text": [
      "Revenue:  [14, 7, 8, 9, 8, 8, 11, 9, 10, 14, 10, 15]\n",
      "Expenses:  [12, 5, 12, 12, 8, 0, 3, 5, 6, 16, 10, 3]\n",
      "Profits:  [2, 1, -3, -2, 0, 7, 8, 3, 3, -2, 0, 11]\n",
      "Taxed profits:  [1, 1, -2, -2, 0, 5, 5, 2, 2, -1, 0, 8]\n",
      "Profit margins:  [12120000.0, 17590000.0, -30140000.0, -22230000.0, -5210000.0, 62740000.0, 49990000.0, 28280000.0, 22610000.0, -10900000.0, 4310000.0, 52750000.0]\n",
      "Good months are: [True, False, False, False, False, True, True, True, True, False, False, True] \n",
      "Bad months are: [False, True, True, True, True, False, False, False, False, True, True, False]\n",
      "The best month is:  [False, False, False, False, False, False, False, False, False, False, False, True]\n",
      "The worst month is:  [False, False, True, False, False, False, False, False, False, False, False, False]\n"
     ]
    }
   ],
   "source": [
    "print(\"Revenue: \", revenue_1000)\n",
    "print(\"Expenses: \", expenses_1000)\n",
    "print(\"Profits: \", profit_1000)\n",
    "print(\"Taxed profits: \", profit_taxed_1000)\n",
    "print(\"Profit margins: \", profit_margins)\n",
    "print(\"Good months are:\", good_months,\"\\nBad months are:\", (bad_months))\n",
    "print(\"The best month is: \", best_month)\n",
    "print(\"The worst month is: \", worst_month)"
   ]
  }
 ],
 "metadata": {
  "kernelspec": {
   "display_name": "Python 3",
   "language": "python",
   "name": "python3"
  },
  "language_info": {
   "codemirror_mode": {
    "name": "ipython",
    "version": 3
   },
   "file_extension": ".py",
   "mimetype": "text/x-python",
   "name": "python",
   "nbconvert_exporter": "python",
   "pygments_lexer": "ipython3",
   "version": "3.8.5"
  }
 },
 "nbformat": 4,
 "nbformat_minor": 1
}
