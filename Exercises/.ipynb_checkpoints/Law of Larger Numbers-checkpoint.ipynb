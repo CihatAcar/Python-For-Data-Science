{
 "cells": [
  {
   "cell_type": "code",
   "execution_count": 2,
   "id": "fewer-object",
   "metadata": {},
   "outputs": [],
   "source": [
    "import numpy as np\n",
    "from numpy.random import randn"
   ]
  },
  {
   "cell_type": "code",
   "execution_count": 6,
   "id": "potential-indication",
   "metadata": {},
   "outputs": [
    {
     "name": "stdout",
     "output_type": "stream",
     "text": [
      "The greater proportion: 15.87 \n",
      "The between proportion: 68.27 \n",
      "The less proportion: 15.87\n"
     ]
    }
   ],
   "source": [
    "EXPECTED_VALUE = 68.2\n",
    "N = 100000000\n",
    "greater_count = 0\n",
    "between_count = 0\n",
    "less_count = 0\n",
    "\n",
    "for i in randn(N):\n",
    "    if i > 1:\n",
    "        greater_count += 1\n",
    "    elif i >= -1:\n",
    "        between_count += 1\n",
    "    else:\n",
    "        less_count += 1\n",
    "\n",
    "greater_proportion = (greater_count / N) * 100\n",
    "between_proportion = (between_count / N) * 100\n",
    "less_proportion = (less_count / N) * 100\n",
    "\n",
    "print(\"The greater proportion: %.2f \\nThe between proportion: %.2f \\nThe less proportion: %.2f\"\n",
    "      %(greater_proportion, between_proportion, less_proportion))"
   ]
  }
 ],
 "metadata": {
  "kernelspec": {
   "display_name": "Python 3",
   "language": "python",
   "name": "python3"
  }
 },
 "nbformat": 4,
 "nbformat_minor": 5
}
